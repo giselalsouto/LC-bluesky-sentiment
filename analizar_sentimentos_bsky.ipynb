{
  "nbformat": 4,
  "nbformat_minor": 0,
  "metadata": {
    "colab": {
      "provenance": [],
      "mount_file_id": "1bX2PYB6aNZXWx_M0dknqzoJgczk9PsZe",
      "authorship_tag": "ABX9TyNawTPDg6Bo6WhRt4DoGXln",
      "include_colab_link": true
    },
    "kernelspec": {
      "name": "python3",
      "display_name": "Python 3"
    },
    "language_info": {
      "name": "python"
    }
  },
  "cells": [
    {
      "cell_type": "markdown",
      "metadata": {
        "id": "view-in-github",
        "colab_type": "text"
      },
      "source": [
        "<a href=\"https://colab.research.google.com/github/giselalsouto/LC-bluesky-sentiment/blob/main/analizar_sentimentos_bsky.ipynb\" target=\"_parent\"><img src=\"https://colab.research.google.com/assets/colab-badge.svg\" alt=\"Open In Colab\"/></a>"
      ]
    },
    {
      "cell_type": "markdown",
      "source": [
        "#1. Seleção de toots e análise de sentimentos em Google Colab\n",
        "\n",
        "A) Seleção de posts:\n",
        "\n",
        "    Configura bluesky-scrape para selecionar posts sobre uma entidade (indivíduo, empresa, produto, localidade, etc) que consideres relevante.\n",
        "\n",
        "    Guarda os resultados num ficheiro e aplica o módulo de sentimentos de Linguakit.\n",
        "\n",
        "    Analisa uma amostra dos posts, identifica os erros do sistema (mal classificados) e procura uma explicação para alguns dos casos errados.\n",
        "\n",
        "B) Melhora o dicionário polarizado:\n",
        "\n",
        "    Abre um dos dicionários do módulo de análise de sentimentos de Linguakit (gl, pt, en, es) e procura palavras polarizadas que não estão mas deveriam estar.\n",
        "\n",
        "    Adiciona essas palavras ao dicionário.\n",
        "\n",
        "    Analisa frases que contenham essas palavras.\n",
        "\n",
        "C) Elabora o teu próprio dicionario polarizado numa das 4 línguas de Linguakit\n",
        "\n",
        "    Cria um novo ficheiro com a lista de palavras polarizadas que consideres essenciais.\n",
        "\n",
        "    Sube-o a Google Colab e coloca-o no lugar ajeitado com o mesmo nome que o dicionário antigo.\n",
        "\n",
        "    Prepara uma lista de frases de teste e prova o analisador com o teu novo dicionário.\n",
        "\n",
        "D) Entrega dos documentos para serem avaliados:\n",
        "\n",
        "    Documento de uma ou duas folhas em PDF que contenha a ligação ao teu Google Colab e uma breve explicação do que foi feito nos pontos A, B e C: erros analisados, que novas palavras fórom adicionadas ao dicionário existente, frases utilizadas para testar o sistema com o dicionário modificado (ponto B) e com o novo dicionário (ponto C), etc.\n"
      ],
      "metadata": {
        "id": "ZPzyaUCdTD58"
      }
    },
    {
      "cell_type": "markdown",
      "source": [
        "A) Seleção de posts:\n",
        "\n",
        "    Configura bluesky-scrape para selecionar posts sobre uma entidade (indivíduo, empresa, produto, localidade, etc) que consideres relevante.\n",
        "\n",
        "    Guarda os resultados num ficheiro e aplica o módulo de sentimentos de Linguakit.\n",
        "\n",
        "    Analisa uma amostra dos posts, identifica os erros do sistema (mal classificados) e procura uma explicação para alguns dos casos errados.\n",
        "  "
      ],
      "metadata": {
        "id": "oroW_MDKUORx"
      }
    },
    {
      "cell_type": "markdown",
      "source": [
        "# A.1.  Descarga e instalación de bluesky-scrape."
      ],
      "metadata": {
        "id": "esXBAZr_K2Qf"
      }
    },
    {
      "cell_type": "markdown",
      "source": [
        "## A.1.1. Comprobación de dependencias"
      ],
      "metadata": {
        "id": "EROrkFTmQsqh"
      }
    },
    {
      "cell_type": "markdown",
      "source": [
        "Antes de descargar e instalar o software que imos empregar para facer a descarga do contido, imos ver se temos os paquetes requiridos para iso."
      ],
      "metadata": {
        "id": "9kdVbjfULHpT"
      }
    },
    {
      "cell_type": "markdown",
      "source": [
        "Neste caso, serían os paquetes `json` (para poder empregar arquivos en formato json) e `requests`que é un paquete para fecer solicitudes HTTP para recuperar información desde a Web.\n"
      ],
      "metadata": {
        "id": "aW9OJtcDNXS0"
      }
    },
    {
      "cell_type": "code",
      "source": [
        "import json, requests\n",
        "# Tamén imos importar a biblioteca os para poder navegar entre ficheiros e usar \\\n",
        "# os propios ficheiros.\n",
        "import os\n"
      ],
      "metadata": {
        "id": "Wmb8l4dLNX2O"
      },
      "execution_count": 1,
      "outputs": []
    },
    {
      "cell_type": "markdown",
      "source": [
        "Ao non dar erros, esto indica que os paquetes xa se atopan no sistema."
      ],
      "metadata": {
        "id": "rnwO3ugJO-Sh"
      }
    },
    {
      "cell_type": "markdown",
      "source": [
        "## A.1.2. Instalación de biblioteca *bluesky-scrape*\n",
        "\n",
        "Unha vez comprobadas as dependencias, e ao non ter que instalar ningunha, imos instalar, *bluesky-scrape*."
      ],
      "metadata": {
        "id": "s-WRetduQiX1"
      }
    },
    {
      "cell_type": "markdown",
      "source": [
        "Para esta instalación, primeiro temos que descargar o repositorio, por medio de git."
      ],
      "metadata": {
        "id": "OMsmqhdSR1fA"
      }
    },
    {
      "cell_type": "code",
      "source": [
        "!git clone https://github.com/gamallo/bluesky-scrape.git"
      ],
      "metadata": {
        "colab": {
          "base_uri": "https://localhost:8080/"
        },
        "id": "AMNUwlIURKwK",
        "outputId": "057b1edb-9377-4aa9-f9f8-1c74dc211164"
      },
      "execution_count": 2,
      "outputs": [
        {
          "output_type": "stream",
          "name": "stdout",
          "text": [
            "fatal: destination path 'bluesky-scrape' already exists and is not an empty directory.\n"
          ]
        }
      ]
    },
    {
      "cell_type": "markdown",
      "source": [
        "Agora, miramos onde descargou o git o contido mediante `ls`-"
      ],
      "metadata": {
        "id": "0-CLfNj3SwGk"
      }
    },
    {
      "cell_type": "code",
      "source": [
        "!ls -lF"
      ],
      "metadata": {
        "colab": {
          "base_uri": "https://localhost:8080/"
        },
        "id": "2ufyaPcfTEV0",
        "outputId": "13d98f4f-53a1-46f8-a822-52fac4effd55"
      },
      "execution_count": 3,
      "outputs": [
        {
          "output_type": "stream",
          "name": "stdout",
          "text": [
            "total 12\n",
            "drwxr-xr-x 3 root root 4096 May 15 18:52 bluesky-scrape/\n",
            "drwx------ 6 root root 4096 May 15 16:43 drive/\n",
            "drwxr-xr-x 1 root root 4096 May 14 13:38 sample_data/\n"
          ]
        }
      ]
    },
    {
      "cell_type": "markdown",
      "source": [
        "Como vemos, o contido está nunha carpeta chamada *bluesky-scrape*.\n",
        "\n",
        "Os parámetros empregados no `ls` son `-l` (visualización en formato longo con variada información) e)`-F`(marcar con `/` ao final os directorios).\n"
      ],
      "metadata": {
        "id": "Yu4v6wU1TUrI"
      }
    },
    {
      "cell_type": "markdown",
      "source": [
        "Agora, entraremos ao directorio bluesky-scrape dende python."
      ],
      "metadata": {
        "id": "HDlvzb8eT9nB"
      }
    },
    {
      "cell_type": "code",
      "source": [
        "os.chdir('/content/bluesky-scrape')\n",
        "!pwd"
      ],
      "metadata": {
        "id": "2PsO4mrdUO6H"
      },
      "execution_count": null,
      "outputs": []
    }
  ]
}